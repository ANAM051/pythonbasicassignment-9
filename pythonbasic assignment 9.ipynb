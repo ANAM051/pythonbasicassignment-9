{
 "cells": [
  {
   "cell_type": "code",
   "execution_count": null,
   "id": "dc3c29f8",
   "metadata": {},
   "outputs": [],
   "source": [
    "1. To what does a relative path refer?\n",
    "2. What does an absolute path start with your operating system?\n",
    "3. What do the functions os.getcwd() and os.chdir() do?\n",
    "4. What are the . and .. folders?\n",
    "5. In C:\\bacon\\eggs\\spam.txt, which part is the dir name, and which part is the base name?\n",
    "6. What are the three “mode” arguments that can be passed to the open() function?\n",
    "7. What happens if an existing file is opened in write mode?\n",
    "8. How do you tell the difference between read() and readlines()?\n",
    "9. What data structure does a shelf value resemble?"
   ]
  },
  {
   "cell_type": "code",
   "execution_count": null,
   "id": "9ac67da2",
   "metadata": {},
   "outputs": [],
   "source": [
    "1.os.path"
   ]
  },
  {
   "cell_type": "code",
   "execution_count": null,
   "id": "db9d2f01",
   "metadata": {},
   "outputs": [],
   "source": []
  },
  {
   "cell_type": "code",
   "execution_count": null,
   "id": "8a09d07c",
   "metadata": {},
   "outputs": [],
   "source": [
    "3. os.getcwd() method tells us the location of current working directory and os.chdir() method changes the path of current working\n",
    "   directory to a specific path."
   ]
  },
  {
   "cell_type": "code",
   "execution_count": null,
   "id": "e0870149",
   "metadata": {},
   "outputs": [],
   "source": [
    "4.  These are not real folder but special name that can be used in a path, . in a folder name is shorthand for the the directory\n",
    "     and .. is the parent folder."
   ]
  },
  {
   "cell_type": "code",
   "execution_count": null,
   "id": "93810d26",
   "metadata": {},
   "outputs": [],
   "source": [
    "5. drectory name is spam.txt and base is bacon."
   ]
  },
  {
   "cell_type": "code",
   "execution_count": null,
   "id": "e4fca643",
   "metadata": {},
   "outputs": [],
   "source": [
    "6.The following are the three modes that can be passed to the open() function: 'r','a' and 'w'.\n",
    "    'r':READ:Default value ,opens for reading the file ,if file doesnot exist ,shows the error\n",
    "    'a':APPEND:opens to append the file, if file doesnot exist creates a new file\n",
    "    'w':WRITE:opens to write the file, if file doesnot exist creates a new file"
   ]
  },
  {
   "cell_type": "code",
   "execution_count": null,
   "id": "4a6b6737",
   "metadata": {},
   "outputs": [],
   "source": [
    "7. file will be opened in write mode."
   ]
  },
  {
   "cell_type": "code",
   "execution_count": null,
   "id": "307e7d23",
   "metadata": {},
   "outputs": [],
   "source": [
    "8.If you open a file in read() mode you can read the whole data of the file but in readlines() you can read the data in line by\n",
    "line format."
   ]
  },
  {
   "cell_type": "code",
   "execution_count": null,
   "id": "bbf1e48b",
   "metadata": {},
   "outputs": [],
   "source": [
    "9. shelf value contains a dictionary value."
   ]
  },
  {
   "cell_type": "code",
   "execution_count": null,
   "id": "042f1567",
   "metadata": {},
   "outputs": [],
   "source": []
  },
  {
   "cell_type": "code",
   "execution_count": null,
   "id": "6abc7bff",
   "metadata": {},
   "outputs": [],
   "source": []
  },
  {
   "cell_type": "code",
   "execution_count": null,
   "id": "dafa8c93",
   "metadata": {},
   "outputs": [],
   "source": []
  },
  {
   "cell_type": "code",
   "execution_count": null,
   "id": "99e431dc",
   "metadata": {},
   "outputs": [],
   "source": []
  },
  {
   "cell_type": "code",
   "execution_count": null,
   "id": "6d0780c1",
   "metadata": {},
   "outputs": [],
   "source": []
  },
  {
   "cell_type": "code",
   "execution_count": null,
   "id": "ed5a9ddd",
   "metadata": {},
   "outputs": [],
   "source": []
  },
  {
   "cell_type": "code",
   "execution_count": null,
   "id": "44f71caa",
   "metadata": {},
   "outputs": [],
   "source": []
  }
 ],
 "metadata": {
  "kernelspec": {
   "display_name": "Python 3 (ipykernel)",
   "language": "python",
   "name": "python3"
  },
  "language_info": {
   "codemirror_mode": {
    "name": "ipython",
    "version": 3
   },
   "file_extension": ".py",
   "mimetype": "text/x-python",
   "name": "python",
   "nbconvert_exporter": "python",
   "pygments_lexer": "ipython3",
   "version": "3.9.12"
  }
 },
 "nbformat": 4,
 "nbformat_minor": 5
}
